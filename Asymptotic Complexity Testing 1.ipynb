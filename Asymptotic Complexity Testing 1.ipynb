{
 "cells": [
  {
   "cell_type": "code",
   "execution_count": 1,
   "metadata": {},
   "outputs": [
    {
     "name": "stderr",
     "output_type": "stream",
     "text": [
      "Registered S3 methods overwritten by 'ggplot2':\n",
      "  method         from \n",
      "  [.quosures     rlang\n",
      "  c.quosures     rlang\n",
      "  print.quosures rlang\n",
      "\n",
      "Attaching package: 'PeakSegDP'\n",
      "\n",
      "The following object is masked from 'package:PeakSegOptimal':\n",
      "\n",
      "    PoissonLoss\n",
      "\n"
     ]
    }
   ],
   "source": [
    "# Import used libraries\n",
    "library(PeakSegOptimal)\n",
    "library(PeakSegDP)\n",
    "library(microbenchmark)\n",
    "library(ggplot2)"
   ]
  },
  {
   "cell_type": "code",
   "execution_count": 2,
   "metadata": {},
   "outputs": [],
   "source": [
    "# Initialize n_seq (different values of n to test with)\n",
    "n_seq = c(10, 100, 1000, 10000)\n",
    "# Declare a vector to store the runtime data in each loop iteration for each algorithm\n",
    "cdpa_data <- integer(length(n_seq))\n",
    "pdpa_data <- integer(length(n_seq))"
   ]
  },
  {
   "cell_type": "code",
   "execution_count": 3,
   "metadata": {},
   "outputs": [],
   "source": [
    "# Loop through the different values of input N and compute the benchmark in each iteration\n",
    "for (i in seq(1, length(n_seq))){\n",
    "  # GeneratePoisson distribution \n",
    "  x <- rpois(n_seq[i], 10)\n",
    "  # Benchmark both the PeakSegPDPA and cDPA functions with maxSegments = 3  \n",
    "  m <- summary(microbenchmark( PeakSegPDPA(x, rep(1, length(x)), 3L),cDPA(x, rep(1, length(x)), 3L)))\n",
    "  pdpa_data[i] <- m$mean[1]\n",
    "  cdpa_data[i] <- m$mean[2]\n",
    "}"
   ]
  },
  {
   "cell_type": "code",
   "execution_count": 4,
   "metadata": {},
   "outputs": [
    {
     "data": {
      "image/png": "[encoded data removed]",
      "text/plain": [
       "plot without title"
      ]
     },
     "metadata": {},
     "output_type": "display_data"
    }
   ],
   "source": [
    "# Create a dateframe from the computed data\n",
    "df = data.frame(pdpa_data, cdpa_data, n_seq)\n",
    "\n",
    "# Plot cDPA vs N(red)    and    PeakSegPDPA vs N(blue)\n",
    "ggplot(df, aes(x=n_seq, y=cdpa_data)) + geom_line(color = 'red') + geom_line(y = pdpa_data, color='blue') + labs(x=\"N\", y=\"Runtime\") \n"
   ]
  },
  {
   "cell_type": "code",
   "execution_count": null,
   "metadata": {},
   "outputs": [],
   "source": []
  }
 ],
 "metadata": {
  "kernelspec": {
   "display_name": "R",
   "language": "R",
   "name": "ir"
  },
  "language_info": {
   "codemirror_mode": "r",
   "file_extension": ".r",
   "mimetype": "text/x-r-source",
   "name": "R",
   "pygments_lexer": "r",
   "version": "3.6.1"
  }
 },
 "nbformat": 4,
 "nbformat_minor": 2
}
